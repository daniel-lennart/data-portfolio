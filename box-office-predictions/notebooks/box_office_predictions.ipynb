{
 "cells": [
  {
   "cell_type": "markdown",
   "metadata": {},
   "source": [
    "# Box office predictions\n",
    "* Complete machine learning workflow. Exploratory analysis -> Data cleaning -> Feature engineering -> Model training\n",
    "* Interpretation of results\n",
    "\n",
    "Project is using predictive modelling on data gathered from IMDB up to 2014 to predict box office profits for movies released in 2015 and 2016.\n",
    "\n",
    "## Objectives\n",
    "* In general, is the profit of a movie correlated with its user score on IMDb? \n",
    "* How about its number of votes?\n",
    "* What do these correlations tell you?\n",
    "* Using the data from 2014 and earlier, can you predict the profit of movies released in 2015 and 2016?\n",
    "* Let's say that you were able to show movies pre-release to a representative focus group, which accurately anticipates the score of a movie (but not its overall popularity), can you improve your model?\n",
    "\n",
    "### Data\n",
    "* One table *box_office_predictions.csv* containing data on 6000 movies from IMDb, released in 2016 and earlier.\n",
    "\n",
    "#### Data dictionary\n",
    "* **budget** - Total cost of the film\n",
    "* **country** - country of release\n",
    "* **director** - Film director's name\n",
    "* **genre** - Primary genre category\n",
    "* **gross** - Total gross revenue\n",
    "* **name** - Name and year of the film\n",
    "* **rating** - MPAA rating of the film\n",
    "* **runtime** - Length of the film in mins\n",
    "* **score** - User score on IMDb\n",
    "* **star** - Lead actor of the film\n",
    "* **studio** - Studio that produced the film\n",
    "* **votes** - Number of user ratings on IMDb\n",
    "\n",
    "### Loading libraries"
   ]
  },
  {
   "cell_type": "code",
   "execution_count": 1,
   "metadata": {},
   "outputs": [],
   "source": [
    "# Python 3 compatibility\n",
    "from __future__ import print_function\n",
    "\n",
    "# NumPy for numerical computing\n",
    "import numpy as np\n",
    "\n",
    "# Pandas for DataFrames\n",
    "import pandas as pd\n",
    "pd.set_option('display.max_columns', 20)\n",
    "\n",
    "# Matplotlib for visualization\n",
    "from matplotlib import pyplot as plt\n",
    "# display plots in the notebook instead of popup\n",
    "\n",
    "# Seaborn for nicer plots\n",
    "import seaborn as sns\n",
    "\n",
    "# Cleaner output\n",
    "import warnings\n",
    "warnings.filterwarnings('ignore')"
   ]
  },
  {
   "cell_type": "markdown",
   "metadata": {},
   "source": [
    "### Loading data"
   ]
  },
  {
   "cell_type": "code",
   "execution_count": 2,
   "metadata": {},
   "outputs": [],
   "source": [
    "df = pd.read_csv('../data/box_office_predictions.csv')"
   ]
  },
  {
   "cell_type": "markdown",
   "metadata": {},
   "source": [
    "## Exploratory data analysis\n",
    "### Basic checks on the dataset\n",
    "* Shape\n",
    "* Data types\n",
    "* Categorical variables\n",
    "* Numeric distributions\n",
    "* Dataset statistics\n",
    "* Statistics including categorical features\n",
    "* First rows of the dataset\n"
   ]
  },
  {
   "cell_type": "code",
   "execution_count": 3,
   "metadata": {
    "scrolled": false
   },
   "outputs": [
    {
     "data": {
      "text/html": [
       "<div>\n",
       "<style scoped>\n",
       "    .dataframe tbody tr th:only-of-type {\n",
       "        vertical-align: middle;\n",
       "    }\n",
       "\n",
       "    .dataframe tbody tr th {\n",
       "        vertical-align: top;\n",
       "    }\n",
       "\n",
       "    .dataframe thead th {\n",
       "        text-align: right;\n",
       "    }\n",
       "</style>\n",
       "<table border=\"1\" class=\"dataframe\">\n",
       "  <thead>\n",
       "    <tr style=\"text-align: right;\">\n",
       "      <th></th>\n",
       "      <th>budget</th>\n",
       "      <th>country</th>\n",
       "      <th>director</th>\n",
       "      <th>genre</th>\n",
       "      <th>gross</th>\n",
       "      <th>name</th>\n",
       "      <th>rating</th>\n",
       "      <th>runtime</th>\n",
       "      <th>score</th>\n",
       "      <th>star</th>\n",
       "      <th>studio</th>\n",
       "      <th>votes</th>\n",
       "    </tr>\n",
       "  </thead>\n",
       "  <tbody>\n",
       "    <tr>\n",
       "      <th>0</th>\n",
       "      <td>237000000.0</td>\n",
       "      <td>UK</td>\n",
       "      <td>James Cameron</td>\n",
       "      <td>Action</td>\n",
       "      <td>760507625.0</td>\n",
       "      <td>Avatar (2009)</td>\n",
       "      <td>PG-13</td>\n",
       "      <td>162</td>\n",
       "      <td>7.8</td>\n",
       "      <td>Sam Worthington</td>\n",
       "      <td>Twentieth Century Fox Film Corporation</td>\n",
       "      <td>958400</td>\n",
       "    </tr>\n",
       "    <tr>\n",
       "      <th>1</th>\n",
       "      <td>200000000.0</td>\n",
       "      <td>USA</td>\n",
       "      <td>James Cameron</td>\n",
       "      <td>Drama</td>\n",
       "      <td>658672302.0</td>\n",
       "      <td>Titanic (1997)</td>\n",
       "      <td>PG-13</td>\n",
       "      <td>194</td>\n",
       "      <td>7.8</td>\n",
       "      <td>Leonardo DiCaprio</td>\n",
       "      <td>Twentieth Century Fox Film Corporation</td>\n",
       "      <td>865551</td>\n",
       "    </tr>\n",
       "    <tr>\n",
       "      <th>2</th>\n",
       "      <td>150000000.0</td>\n",
       "      <td>USA</td>\n",
       "      <td>Colin Trevorrow</td>\n",
       "      <td>Action</td>\n",
       "      <td>652270625.0</td>\n",
       "      <td>Jurassic World (2015)</td>\n",
       "      <td>PG-13</td>\n",
       "      <td>124</td>\n",
       "      <td>7.0</td>\n",
       "      <td>Chris Pratt</td>\n",
       "      <td>Universal Pictures</td>\n",
       "      <td>470625</td>\n",
       "    </tr>\n",
       "    <tr>\n",
       "      <th>3</th>\n",
       "      <td>220000000.0</td>\n",
       "      <td>USA</td>\n",
       "      <td>Joss Whedon</td>\n",
       "      <td>Action</td>\n",
       "      <td>623357910.0</td>\n",
       "      <td>The Avengers (2012)</td>\n",
       "      <td>PG-13</td>\n",
       "      <td>143</td>\n",
       "      <td>8.1</td>\n",
       "      <td>Robert Downey Jr.</td>\n",
       "      <td>Marvel Studios</td>\n",
       "      <td>1069292</td>\n",
       "    </tr>\n",
       "    <tr>\n",
       "      <th>4</th>\n",
       "      <td>185000000.0</td>\n",
       "      <td>USA</td>\n",
       "      <td>Christopher Nolan</td>\n",
       "      <td>Action</td>\n",
       "      <td>534858444.0</td>\n",
       "      <td>The Dark Knight (2008)</td>\n",
       "      <td>PG-13</td>\n",
       "      <td>152</td>\n",
       "      <td>9.0</td>\n",
       "      <td>Christian Bale</td>\n",
       "      <td>Warner Bros.</td>\n",
       "      <td>1845853</td>\n",
       "    </tr>\n",
       "  </tbody>\n",
       "</table>\n",
       "</div>"
      ],
      "text/plain": [
       "        budget country           director   genre        gross  \\\n",
       "0  237000000.0      UK      James Cameron  Action  760507625.0   \n",
       "1  200000000.0     USA      James Cameron   Drama  658672302.0   \n",
       "2  150000000.0     USA    Colin Trevorrow  Action  652270625.0   \n",
       "3  220000000.0     USA        Joss Whedon  Action  623357910.0   \n",
       "4  185000000.0     USA  Christopher Nolan  Action  534858444.0   \n",
       "\n",
       "                     name rating  runtime  score               star  \\\n",
       "0           Avatar (2009)  PG-13      162    7.8    Sam Worthington   \n",
       "1          Titanic (1997)  PG-13      194    7.8  Leonardo DiCaprio   \n",
       "2   Jurassic World (2015)  PG-13      124    7.0        Chris Pratt   \n",
       "3     The Avengers (2012)  PG-13      143    8.1  Robert Downey Jr.   \n",
       "4  The Dark Knight (2008)  PG-13      152    9.0     Christian Bale   \n",
       "\n",
       "                                   studio    votes  \n",
       "0  Twentieth Century Fox Film Corporation   958400  \n",
       "1  Twentieth Century Fox Film Corporation   865551  \n",
       "2                      Universal Pictures   470625  \n",
       "3                          Marvel Studios  1069292  \n",
       "4                            Warner Bros.  1845853  "
      ]
     },
     "execution_count": 3,
     "metadata": {},
     "output_type": "execute_result"
    }
   ],
   "source": [
    "df.head()"
   ]
  },
  {
   "cell_type": "markdown",
   "metadata": {},
   "source": [
    "* The dataset has a mix of numeric and categorical features.\n",
    "* There are variables for budget and gross revenue, but no variable for profit or roi. These will need creating later.\n",
    "* The \"name\" feature also includes the year the film was released. We can extract this information to create an age of film feature."
   ]
  },
  {
   "cell_type": "code",
   "execution_count": 4,
   "metadata": {},
   "outputs": [
    {
     "data": {
      "text/plain": [
       "(6000, 12)"
      ]
     },
     "execution_count": 4,
     "metadata": {},
     "output_type": "execute_result"
    }
   ],
   "source": [
    "# 12 features for 6000 observations\n",
    "df.shape"
   ]
  },
  {
   "cell_type": "code",
   "execution_count": 5,
   "metadata": {},
   "outputs": [
    {
     "data": {
      "text/plain": [
       "budget      float64\n",
       "country      object\n",
       "director     object\n",
       "genre        object\n",
       "gross       float64\n",
       "name         object\n",
       "rating       object\n",
       "runtime       int64\n",
       "score       float64\n",
       "star         object\n",
       "studio       object\n",
       "votes         int64\n",
       "dtype: object"
      ]
     },
     "execution_count": 5,
     "metadata": {},
     "output_type": "execute_result"
    }
   ],
   "source": [
    "# All features\n",
    "df.dtypes"
   ]
  },
  {
   "cell_type": "code",
   "execution_count": 6,
   "metadata": {},
   "outputs": [
    {
     "data": {
      "text/plain": [
       "country     object\n",
       "director    object\n",
       "genre       object\n",
       "name        object\n",
       "rating      object\n",
       "star        object\n",
       "studio      object\n",
       "dtype: object"
      ]
     },
     "execution_count": 6,
     "metadata": {},
     "output_type": "execute_result"
    }
   ],
   "source": [
    "# Only categorical\n",
    "df.dtypes[df.dtypes == 'object']"
   ]
  },
  {
   "cell_type": "code",
   "execution_count": 7,
   "metadata": {},
   "outputs": [
    {
     "data": {
      "image/png": "[encoded data removed]",
      "text/plain": [
       "<Figure size 1008x1008 with 6 Axes>"
      ]
     },
     "metadata": {
      "needs_background": "light"
     },
     "output_type": "display_data"
    }
   ],
   "source": [
    "# Plot histogram grid\n",
    "df.hist(figsize=[14,14], xrot=315)\n",
    "# Clear the text \"residue\"\n",
    "plt.show()"
   ]
  },
  {
   "cell_type": "markdown",
   "metadata": {},
   "source": [
    "#### Assumptions\n",
    "* Looking at the budget - possibly in millions\n",
    "* Score looks normally distributes which is usual with things involving human population\n",
    "* Looks like most movies have very few votes\n",
    "* Most movies are about 110 minutes in length which is consistent with research on this here https://www.slashfilm.com/by-the-numbers-the-length-of-feature-films/2/ and here https://www.reddit.com/r/dataisbeautiful/comments/6vnwa9/average_movie_length_by_country_source_imdb_of/\n",
    "* Gross is not clear, seems to be too small to be in millions. Will need further looking into"
   ]
  },
  {
   "cell_type": "code",
   "execution_count": 8,
   "metadata": {},
   "outputs": [
    {
     "data": {
      "text/html": [
       "<div>\n",
       "<style scoped>\n",
       "    .dataframe tbody tr th:only-of-type {\n",
       "        vertical-align: middle;\n",
       "    }\n",
       "\n",
       "    .dataframe tbody tr th {\n",
       "        vertical-align: top;\n",
       "    }\n",
       "\n",
       "    .dataframe thead th {\n",
       "        text-align: right;\n",
       "    }\n",
       "</style>\n",
       "<table border=\"1\" class=\"dataframe\">\n",
       "  <thead>\n",
       "    <tr style=\"text-align: right;\">\n",
       "      <th></th>\n",
       "      <th>budget</th>\n",
       "      <th>gross</th>\n",
       "      <th>runtime</th>\n",
       "      <th>score</th>\n",
       "      <th>votes</th>\n",
       "    </tr>\n",
       "  </thead>\n",
       "  <tbody>\n",
       "    <tr>\n",
       "      <th>count</th>\n",
       "      <td>6.000000e+03</td>\n",
       "      <td>6.000000e+03</td>\n",
       "      <td>6000.000000</td>\n",
       "      <td>6000.000000</td>\n",
       "      <td>6.000000e+03</td>\n",
       "    </tr>\n",
       "    <tr>\n",
       "      <th>mean</th>\n",
       "      <td>2.469918e+07</td>\n",
       "      <td>3.341635e+07</td>\n",
       "      <td>106.587000</td>\n",
       "      <td>6.386383</td>\n",
       "      <td>7.188537e+04</td>\n",
       "    </tr>\n",
       "    <tr>\n",
       "      <th>std</th>\n",
       "      <td>3.721710e+07</td>\n",
       "      <td>5.735205e+07</td>\n",
       "      <td>18.026885</td>\n",
       "      <td>0.994921</td>\n",
       "      <td>1.308033e+05</td>\n",
       "    </tr>\n",
       "    <tr>\n",
       "      <th>min</th>\n",
       "      <td>0.000000e+00</td>\n",
       "      <td>4.410000e+02</td>\n",
       "      <td>50.000000</td>\n",
       "      <td>1.500000</td>\n",
       "      <td>2.700000e+01</td>\n",
       "    </tr>\n",
       "    <tr>\n",
       "      <th>25%</th>\n",
       "      <td>0.000000e+00</td>\n",
       "      <td>1.527796e+06</td>\n",
       "      <td>95.000000</td>\n",
       "      <td>5.800000</td>\n",
       "      <td>7.791750e+03</td>\n",
       "    </tr>\n",
       "    <tr>\n",
       "      <th>50%</th>\n",
       "      <td>1.100000e+07</td>\n",
       "      <td>1.229897e+07</td>\n",
       "      <td>102.000000</td>\n",
       "      <td>6.500000</td>\n",
       "      <td>2.660150e+04</td>\n",
       "    </tr>\n",
       "    <tr>\n",
       "      <th>75%</th>\n",
       "      <td>3.262500e+07</td>\n",
       "      <td>4.007256e+07</td>\n",
       "      <td>115.000000</td>\n",
       "      <td>7.100000</td>\n",
       "      <td>7.677475e+04</td>\n",
       "    </tr>\n",
       "    <tr>\n",
       "      <th>max</th>\n",
       "      <td>3.000000e+08</td>\n",
       "      <td>7.605076e+08</td>\n",
       "      <td>366.000000</td>\n",
       "      <td>9.300000</td>\n",
       "      <td>1.868308e+06</td>\n",
       "    </tr>\n",
       "  </tbody>\n",
       "</table>\n",
       "</div>"
      ],
      "text/plain": [
       "             budget         gross      runtime        score         votes\n",
       "count  6.000000e+03  6.000000e+03  6000.000000  6000.000000  6.000000e+03\n",
       "mean   2.469918e+07  3.341635e+07   106.587000     6.386383  7.188537e+04\n",
       "std    3.721710e+07  5.735205e+07    18.026885     0.994921  1.308033e+05\n",
       "min    0.000000e+00  4.410000e+02    50.000000     1.500000  2.700000e+01\n",
       "25%    0.000000e+00  1.527796e+06    95.000000     5.800000  7.791750e+03\n",
       "50%    1.100000e+07  1.229897e+07   102.000000     6.500000  2.660150e+04\n",
       "75%    3.262500e+07  4.007256e+07   115.000000     7.100000  7.677475e+04\n",
       "max    3.000000e+08  7.605076e+08   366.000000     9.300000  1.868308e+06"
      ]
     },
     "execution_count": 8,
     "metadata": {},
     "output_type": "execute_result"
    }
   ],
   "source": [
    "df.describe()"
   ]
  },
  {
   "cell_type": "markdown",
   "metadata": {},
   "source": [
    "Based on the summary statistics, we see that some films have a budget of 0 in the dataset. Here are a few examples:"
   ]
  },
  {
   "cell_type": "code",
   "execution_count": 9,
   "metadata": {},
   "outputs": [
    {
     "data": {
      "text/html": [
       "<div>\n",
       "<style scoped>\n",
       "    .dataframe tbody tr th:only-of-type {\n",
       "        vertical-align: middle;\n",
       "    }\n",
       "\n",
       "    .dataframe tbody tr th {\n",
       "        vertical-align: top;\n",
       "    }\n",
       "\n",
       "    .dataframe thead th {\n",
       "        text-align: right;\n",
       "    }\n",
       "</style>\n",
       "<table border=\"1\" class=\"dataframe\">\n",
       "  <thead>\n",
       "    <tr style=\"text-align: right;\">\n",
       "      <th></th>\n",
       "      <th>budget</th>\n",
       "      <th>country</th>\n",
       "      <th>director</th>\n",
       "      <th>genre</th>\n",
       "      <th>gross</th>\n",
       "      <th>name</th>\n",
       "      <th>rating</th>\n",
       "      <th>runtime</th>\n",
       "      <th>score</th>\n",
       "      <th>star</th>\n",
       "      <th>studio</th>\n",
       "      <th>votes</th>\n",
       "    </tr>\n",
       "  </thead>\n",
       "  <tbody>\n",
       "    <tr>\n",
       "      <th>56</th>\n",
       "      <td>0.0</td>\n",
       "      <td>UK</td>\n",
       "      <td>David Yates</td>\n",
       "      <td>Adventure</td>\n",
       "      <td>295983305.0</td>\n",
       "      <td>Harry Potter and the Deathly Hallows: Part 1 (...</td>\n",
       "      <td>PG-13</td>\n",
       "      <td>146</td>\n",
       "      <td>7.7</td>\n",
       "      <td>Daniel Radcliffe</td>\n",
       "      <td>Warner Bros.</td>\n",
       "      <td>370003</td>\n",
       "    </tr>\n",
       "    <tr>\n",
       "      <th>207</th>\n",
       "      <td>0.0</td>\n",
       "      <td>USA</td>\n",
       "      <td>Walt Becker</td>\n",
       "      <td>Action</td>\n",
       "      <td>168273550.0</td>\n",
       "      <td>Wild Hogs (2007)</td>\n",
       "      <td>PG-13</td>\n",
       "      <td>100</td>\n",
       "      <td>5.9</td>\n",
       "      <td>Tim Allen</td>\n",
       "      <td>Touchstone Pictures</td>\n",
       "      <td>104657</td>\n",
       "    </tr>\n",
       "    <tr>\n",
       "      <th>431</th>\n",
       "      <td>0.0</td>\n",
       "      <td>USA</td>\n",
       "      <td>John G. Avildsen</td>\n",
       "      <td>Action</td>\n",
       "      <td>115103979.0</td>\n",
       "      <td>The Karate Kid Part II (1986)</td>\n",
       "      <td>PG</td>\n",
       "      <td>113</td>\n",
       "      <td>5.9</td>\n",
       "      <td>Pat Morita</td>\n",
       "      <td>Columbia Pictures Corporation</td>\n",
       "      <td>58596</td>\n",
       "    </tr>\n",
       "    <tr>\n",
       "      <th>553</th>\n",
       "      <td>0.0</td>\n",
       "      <td>USA</td>\n",
       "      <td>Nora Ephron</td>\n",
       "      <td>Comedy</td>\n",
       "      <td>95318203.0</td>\n",
       "      <td>Michael (1996)</td>\n",
       "      <td>PG</td>\n",
       "      <td>105</td>\n",
       "      <td>5.7</td>\n",
       "      <td>John Travolta</td>\n",
       "      <td>Turner Pictures (I)</td>\n",
       "      <td>36553</td>\n",
       "    </tr>\n",
       "    <tr>\n",
       "      <th>592</th>\n",
       "      <td>0.0</td>\n",
       "      <td>USA</td>\n",
       "      <td>Tyler Perry</td>\n",
       "      <td>Comedy</td>\n",
       "      <td>90485233.0</td>\n",
       "      <td>Madea Goes to Jail (2009)</td>\n",
       "      <td>PG-13</td>\n",
       "      <td>103</td>\n",
       "      <td>4.3</td>\n",
       "      <td>Tyler Perry</td>\n",
       "      <td>Tyler Perry Company, The</td>\n",
       "      <td>10095</td>\n",
       "    </tr>\n",
       "  </tbody>\n",
       "</table>\n",
       "</div>"
      ],
      "text/plain": [
       "     budget country          director      genre        gross  \\\n",
       "56      0.0      UK       David Yates  Adventure  295983305.0   \n",
       "207     0.0     USA       Walt Becker     Action  168273550.0   \n",
       "431     0.0     USA  John G. Avildsen     Action  115103979.0   \n",
       "553     0.0     USA       Nora Ephron     Comedy   95318203.0   \n",
       "592     0.0     USA       Tyler Perry     Comedy   90485233.0   \n",
       "\n",
       "                                                  name rating  runtime  score  \\\n",
       "56   Harry Potter and the Deathly Hallows: Part 1 (...  PG-13      146    7.7   \n",
       "207                                   Wild Hogs (2007)  PG-13      100    5.9   \n",
       "431                      The Karate Kid Part II (1986)     PG      113    5.9   \n",
       "553                                     Michael (1996)     PG      105    5.7   \n",
       "592                          Madea Goes to Jail (2009)  PG-13      103    4.3   \n",
       "\n",
       "                 star                         studio   votes  \n",
       "56   Daniel Radcliffe                   Warner Bros.  370003  \n",
       "207         Tim Allen            Touchstone Pictures  104657  \n",
       "431        Pat Morita  Columbia Pictures Corporation   58596  \n",
       "553     John Travolta            Turner Pictures (I)   36553  \n",
       "592       Tyler Perry       Tyler Perry Company, The   10095  "
      ]
     },
     "execution_count": 9,
     "metadata": {},
     "output_type": "execute_result"
    }
   ],
   "source": [
    "# Examples of films with 0 budget\n",
    "df[df.budget == 0].head()"
   ]
  },
  {
   "cell_type": "markdown",
   "metadata": {},
   "source": [
    "These are most likely missing values or data collection errors. But since our goal is to investigate profitability of films, we cannot study films with missing budget values.\n",
    "\n",
    "To improve the analysis in the future, we'd want to troubleshoot our data source to find out if we can get the budgets of those films. For now, we'll remove those films."
   ]
  },
  {
   "cell_type": "code",
   "execution_count": 10,
   "metadata": {},
   "outputs": [],
   "source": [
    "# Remove films with \"0\" budget\n",
    "df = df.loc[df.budget > 0,:]"
   ]
  },
  {
   "cell_type": "code",
   "execution_count": 11,
   "metadata": {},
   "outputs": [
    {
     "data": {
      "text/html": [
       "<div>\n",
       "<style scoped>\n",
       "    .dataframe tbody tr th:only-of-type {\n",
       "        vertical-align: middle;\n",
       "    }\n",
       "\n",
       "    .dataframe tbody tr th {\n",
       "        vertical-align: top;\n",
       "    }\n",
       "\n",
       "    .dataframe thead th {\n",
       "        text-align: right;\n",
       "    }\n",
       "</style>\n",
       "<table border=\"1\" class=\"dataframe\">\n",
       "  <thead>\n",
       "    <tr style=\"text-align: right;\">\n",
       "      <th></th>\n",
       "      <th>country</th>\n",
       "      <th>director</th>\n",
       "      <th>genre</th>\n",
       "      <th>name</th>\n",
       "      <th>rating</th>\n",
       "      <th>star</th>\n",
       "      <th>studio</th>\n",
       "    </tr>\n",
       "  </thead>\n",
       "  <tbody>\n",
       "    <tr>\n",
       "      <th>count</th>\n",
       "      <td>4089</td>\n",
       "      <td>4089</td>\n",
       "      <td>4089</td>\n",
       "      <td>4089</td>\n",
       "      <td>4089</td>\n",
       "      <td>4089</td>\n",
       "      <td>4089</td>\n",
       "    </tr>\n",
       "    <tr>\n",
       "      <th>unique</th>\n",
       "      <td>42</td>\n",
       "      <td>1757</td>\n",
       "      <td>16</td>\n",
       "      <td>4089</td>\n",
       "      <td>8</td>\n",
       "      <td>1501</td>\n",
       "      <td>1232</td>\n",
       "    </tr>\n",
       "    <tr>\n",
       "      <th>top</th>\n",
       "      <td>USA</td>\n",
       "      <td>Woody Allen</td>\n",
       "      <td>Comedy</td>\n",
       "      <td>Nadine (1987)</td>\n",
       "      <td>R</td>\n",
       "      <td>Nicolas Cage</td>\n",
       "      <td>Universal Pictures</td>\n",
       "    </tr>\n",
       "    <tr>\n",
       "      <th>freq</th>\n",
       "      <td>3275</td>\n",
       "      <td>26</td>\n",
       "      <td>1136</td>\n",
       "      <td>1</td>\n",
       "      <td>2001</td>\n",
       "      <td>36</td>\n",
       "      <td>235</td>\n",
       "    </tr>\n",
       "  </tbody>\n",
       "</table>\n",
       "</div>"
      ],
      "text/plain": [
       "       country     director   genre           name rating          star  \\\n",
       "count     4089         4089    4089           4089   4089          4089   \n",
       "unique      42         1757      16           4089      8          1501   \n",
       "top        USA  Woody Allen  Comedy  Nadine (1987)      R  Nicolas Cage   \n",
       "freq      3275           26    1136              1   2001            36   \n",
       "\n",
       "                    studio  \n",
       "count                 4089  \n",
       "unique                1232  \n",
       "top     Universal Pictures  \n",
       "freq                   235  "
      ]
     },
     "execution_count": 11,
     "metadata": {},
     "output_type": "execute_result"
    }
   ],
   "source": [
    "df.describe(include=['object'])"
   ]
  },
  {
   "cell_type": "markdown",
   "metadata": {},
   "source": [
    "#### Insights\n",
    "* There seems to be no missing values for categorical features\n",
    "* Most movies are US comedies, however there are 52 counties present in the dataset and 17 genres\n",
    "* some categorical features have a large number of unique classes relative to the number of total observations. \n",
    "\n",
    "There are 1232 unique studios in the dataset of 4089 observations (after filtering for non-zero budget). This will most likely lead to sparse classes, so we'll want to address this during feature engineering."
   ]
  },
  {
   "cell_type": "code",
   "execution_count": 12,
   "metadata": {},
   "outputs": [
    {
     "data": {
      "text/plain": [
       "Applied Action           1\n",
       "Santa Monica Holdings    1\n",
       "Seraphim Films           1\n",
       "George Films             1\n",
       "SBS Productions          1\n",
       "Name: studio, dtype: int64"
      ]
     },
     "execution_count": 12,
     "metadata": {},
     "output_type": "execute_result"
    }
   ],
   "source": [
    "# Reverse sort studios by total number of films\n",
    "df.studio.value_counts().tail()"
   ]
  },
  {
   "cell_type": "markdown",
   "metadata": {},
   "source": [
    "Compare that to the top studios in the dataset, and we can see that it will be useful to combine low-frequency studios into tiered classes"
   ]
  },
  {
   "cell_type": "code",
   "execution_count": 13,
   "metadata": {},
   "outputs": [
    {
     "data": {
      "text/plain": [
       "Universal Pictures                        235\n",
       "Warner Bros.                              231\n",
       "Paramount Pictures                        197\n",
       "Twentieth Century Fox Film Corporation    148\n",
       "New Line Cinema                           123\n",
       "Name: studio, dtype: int64"
      ]
     },
     "execution_count": 13,
     "metadata": {},
     "output_type": "execute_result"
    }
   ],
   "source": [
    "# Top studios by total number of films\n",
    "df.studio.value_counts().head()"
   ]
  },
  {
   "cell_type": "markdown",
   "metadata": {},
   "source": [
    "### Data cleaning considerations\n",
    "* Check for duplicates\n",
    "* Check for missing values"
   ]
  },
  {
   "cell_type": "markdown",
   "metadata": {},
   "source": [
    "#### Check for duplicates"
   ]
  },
  {
   "cell_type": "code",
   "execution_count": 14,
   "metadata": {},
   "outputs": [
    {
     "data": {
      "text/plain": [
       "Nadine (1987)                      1\n",
       "La casa de los espíritus (1993)    1\n",
       "La Bamba (1987)                    1\n",
       "Intersection (1994)                1\n",
       "Car 54, Where Are You? (1994)      1\n",
       "Name: name, dtype: int64"
      ]
     },
     "execution_count": 14,
     "metadata": {},
     "output_type": "execute_result"
    }
   ],
   "source": [
    "# check for duplicates by movie name\n",
    "df['name'].value_counts().head()"
   ]
  },
  {
   "cell_type": "markdown",
   "metadata": {},
   "source": [
    "it seems there are no duplicates in the dataset"
   ]
  },
  {
   "cell_type": "markdown",
   "metadata": {},
   "source": [
    "#### Find missing values"
   ]
  },
  {
   "cell_type": "code",
   "execution_count": 15,
   "metadata": {},
   "outputs": [
    {
     "data": {
      "text/plain": [
       "country     0\n",
       "director    0\n",
       "genre       0\n",
       "name        0\n",
       "rating      0\n",
       "star        0\n",
       "studio      0\n",
       "dtype: int64"
      ]
     },
     "execution_count": 15,
     "metadata": {},
     "output_type": "execute_result"
    }
   ],
   "source": [
    "# Find missing data in categorical features\n",
    "df.select_dtypes(include=['object']).isnull().sum()"
   ]
  },
  {
   "cell_type": "markdown",
   "metadata": {},
   "source": [
    "Seems no data is missing here"
   ]
  },
  {
   "cell_type": "code",
   "execution_count": 16,
   "metadata": {},
   "outputs": [
    {
     "data": {
      "text/plain": [
       "budget     0\n",
       "gross      0\n",
       "runtime    0\n",
       "score      0\n",
       "votes      0\n",
       "dtype: int64"
      ]
     },
     "execution_count": 16,
     "metadata": {},
     "output_type": "execute_result"
    }
   ],
   "source": [
    "# Display number of missing values by feature (numeric)\n",
    "df.select_dtypes(exclude=['object']).isnull().sum()"
   ]
  },
  {
   "cell_type": "markdown",
   "metadata": {},
   "source": [
    "No missing values here as well"
   ]
  },
  {
   "cell_type": "markdown",
   "metadata": {},
   "source": [
    "## Feature engineering\n",
    "\n",
    "Creating target variable"
   ]
  },
  {
   "cell_type": "code",
   "execution_count": 17,
   "metadata": {},
   "outputs": [],
   "source": [
    "df['profit'] = df.gross - df.budget"
   ]
  },
  {
   "cell_type": "markdown",
   "metadata": {},
   "source": [
    "### Combine sparse classes into tiers\n",
    "\n",
    "There are other valid ways of combining classes. For example, you could try combining studios based on their average production budget (as a proxy for studio size). We will combine them based on their total number of films in the dataset."
   ]
  },
  {
   "cell_type": "code",
   "execution_count": 18,
   "metadata": {},
   "outputs": [],
   "source": [
    "# Number of films from each studio\n",
    "studio_counts = df.studio.value_counts()\n",
    "\n",
    "# Tiers for sparser studios\n",
    "one = studio_counts[studio_counts <= 1].index\n",
    "three_five = studio_counts[(studio_counts > 1) & (studio_counts <= 3)].index\n",
    "five_ten = studio_counts[(studio_counts > 3) & (studio_counts <= 5)].index\n",
    "ten_plus = studio_counts[(studio_counts > 5) & (studio_counts <= 10)].index\n",
    "\n",
    "# Combine sparse studios\n",
    "df['studio'].replace(one, '1', inplace=True)\n",
    "df['studio'].replace(three_five, '3-5', inplace=True)\n",
    "df['studio'].replace(five_ten, '5-10', inplace=True)\n",
    "df['studio'].replace(ten_plus, '10+', inplace=True)"
   ]
  },
  {
   "cell_type": "code",
   "execution_count": 19,
   "metadata": {},
   "outputs": [],
   "source": [
    "# Same with stars\n",
    "# Number of films from each star\n",
    "star_counts = df.star.value_counts()\n",
    "\n",
    "# Tiers for sparser stars\n",
    "one = star_counts[star_counts <= 1].index\n",
    "three_five = star_counts[(star_counts > 1) & (star_counts <= 3)].index\n",
    "five_ten = star_counts[(star_counts > 3) & (star_counts <= 5)].index\n",
    "ten_plus = star_counts[(star_counts > 5) & (star_counts <= 10)].index\n",
    "\n",
    "# Combine sparse stars\n",
    "df['star'].replace(one, '1', inplace=True)\n",
    "df['star'].replace(three_five, '3-5', inplace=True)\n",
    "df['star'].replace(five_ten, '5-10', inplace=True)\n",
    "df['star'].replace(ten_plus, '10+', inplace=True)"
   ]
  },
  {
   "cell_type": "code",
   "execution_count": 20,
   "metadata": {},
   "outputs": [],
   "source": [
    "# Number of films from each director\n",
    "director_counts = df.director.value_counts()\n",
    "\n",
    "# Tiers for sparser directors\n",
    "one = director_counts[director_counts <= 1].index\n",
    "three_five = director_counts[(director_counts > 1) & (director_counts <= 3)].index\n",
    "five_ten = director_counts[(director_counts > 3) & (director_counts <= 5)].index\n",
    "ten_plus = director_counts[(director_counts > 5) & (director_counts <= 10)].index\n",
    "\n",
    "# Combine sparse directors\n",
    "df['director'].replace(one, '1', inplace=True)\n",
    "df['director'].replace(three_five, '3-5', inplace=True)\n",
    "df['director'].replace(five_ten, '5-10', inplace=True)\n",
    "df['director'].replace(ten_plus, '10+', inplace=True)"
   ]
  },
  {
   "cell_type": "markdown",
   "metadata": {},
   "source": [
    "### Combining countries"
   ]
  },
  {
   "cell_type": "code",
   "execution_count": 21,
   "metadata": {},
   "outputs": [
    {
     "data": {
      "text/plain": [
       "<matplotlib.axes._subplots.AxesSubplot at 0x1a217d20f0>"
      ]
     },
     "execution_count": 21,
     "metadata": {},
     "output_type": "execute_result"
    },
    {
     "data": {
      "image/png": "[encoded data removed]",
      "text/plain": [
       "<Figure size 432x288 with 1 Axes>"
      ]
     },
     "metadata": {
      "needs_background": "light"
     },
     "output_type": "display_data"
    }
   ],
   "source": [
    "# it looks like movies mainly come from top 5 countries in this dataset\n",
    "#Number of films from each country\n",
    "country_counts = df.country.value_counts()\n",
    "\n",
    "# New class frequencies\n",
    "df.country.value_counts()\n",
    "top_5_list = df.country.value_counts().index[:5]\n",
    "df.loc[~df.country.isin(top_5_list), 'country'] = 'Other'\n",
    "sns.countplot(y='country', data=df)"
   ]
  },
  {
   "cell_type": "code",
   "execution_count": 22,
   "metadata": {},
   "outputs": [
    {
     "data": {
      "text/plain": [
       "<matplotlib.axes._subplots.AxesSubplot at 0x1a21280ba8>"
      ]
     },
     "execution_count": 22,
     "metadata": {},
     "output_type": "execute_result"
    },
    {
     "data": {
      "image/png": "[encoded data removed]",
      "text/plain": [
       "<Figure size 432x288 with 1 Axes>"
      ]
     },
     "metadata": {
      "needs_background": "light"
     },
     "output_type": "display_data"
    }
   ],
   "source": [
    "sns.countplot(y='genre', data=df)"
   ]
  },
  {
   "cell_type": "markdown",
   "metadata": {},
   "source": [
    "It looks like we have 8 top genres, let's combine sparse genres into Other"
   ]
  },
  {
   "cell_type": "code",
   "execution_count": 23,
   "metadata": {},
   "outputs": [
    {
     "data": {
      "text/plain": [
       "<matplotlib.axes._subplots.AxesSubplot at 0x1a20e41c88>"
      ]
     },
     "execution_count": 23,
     "metadata": {},
     "output_type": "execute_result"
    },
    {
     "data": {
      "image/png": "[encoded data removed]",
      "text/plain": [
       "<Figure size 432x288 with 1 Axes>"
      ]
     },
     "metadata": {
      "needs_background": "light"
     },
     "output_type": "display_data"
    }
   ],
   "source": [
    "# top 8 genres\n",
    "top_8_list = df.genre.value_counts().index[:8]\n",
    "df.loc[~df.genre.isin(top_8_list), 'genre'] = 'Other'\n",
    "sns.countplot(y='genre', data=df)"
   ]
  },
  {
   "cell_type": "markdown",
   "metadata": {},
   "source": [
    "*rating* feature has an issue where Unrated films have different labels:"
   ]
  },
  {
   "cell_type": "code",
   "execution_count": 24,
   "metadata": {},
   "outputs": [
    {
     "data": {
      "text/plain": [
       "<matplotlib.axes._subplots.AxesSubplot at 0x1a212fe240>"
      ]
     },
     "execution_count": 24,
     "metadata": {},
     "output_type": "execute_result"
    },
    {
     "data": {
      "image/png": "[encoded data removed]",
      "text/plain": [
       "<Figure size 432x288 with 1 Axes>"
      ]
     },
     "metadata": {
      "needs_background": "light"
     },
     "output_type": "display_data"
    }
   ],
   "source": [
    "sns.countplot(y='rating', data=df)"
   ]
  },
  {
   "cell_type": "code",
   "execution_count": 25,
   "metadata": {},
   "outputs": [],
   "source": [
    "# Fix \"unrated\" labels\n",
    "df['rating'].replace(['NOT RATED', 'UNRATED', 'Not specified'], 'NR', inplace=True)"
   ]
  },
  {
   "cell_type": "code",
   "execution_count": 26,
   "metadata": {},
   "outputs": [
    {
     "data": {
      "text/plain": [
       "<matplotlib.axes._subplots.AxesSubplot at 0x1a211a2d30>"
      ]
     },
     "execution_count": 26,
     "metadata": {},
     "output_type": "execute_result"
    },
    {
     "data": {
      "image/png": "[encoded data removed]",
      "text/plain": [
       "<Figure size 432x288 with 1 Axes>"
      ]
     },
     "metadata": {
      "needs_background": "light"
     },
     "output_type": "display_data"
    }
   ],
   "source": [
    "sns.countplot(y='rating', data=df)"
   ]
  },
  {
   "cell_type": "markdown",
   "metadata": {},
   "source": [
    "Finally, we'll create an age feature for the film. \n",
    "\n",
    "Note: We will set \"today\" to 2014 to imitate an analysis performed in 2014 to predict films in 2015 and 2016."
   ]
  },
  {
   "cell_type": "code",
   "execution_count": 27,
   "metadata": {},
   "outputs": [],
   "source": [
    "def extract_age(s, today=2014):\n",
    "    return today - int( s[-5:-1] )"
   ]
  },
  {
   "cell_type": "code",
   "execution_count": 28,
   "metadata": {},
   "outputs": [],
   "source": [
    "# Create \"age\" feature\n",
    "df['age'] = df.name.apply(extract_age)"
   ]
  },
  {
   "cell_type": "code",
   "execution_count": 29,
   "metadata": {},
   "outputs": [
    {
     "data": {
      "text/html": [
       "<div>\n",
       "<style scoped>\n",
       "    .dataframe tbody tr th:only-of-type {\n",
       "        vertical-align: middle;\n",
       "    }\n",
       "\n",
       "    .dataframe tbody tr th {\n",
       "        vertical-align: top;\n",
       "    }\n",
       "\n",
       "    .dataframe thead th {\n",
       "        text-align: right;\n",
       "    }\n",
       "</style>\n",
       "<table border=\"1\" class=\"dataframe\">\n",
       "  <thead>\n",
       "    <tr style=\"text-align: right;\">\n",
       "      <th></th>\n",
       "      <th>budget</th>\n",
       "      <th>country</th>\n",
       "      <th>director</th>\n",
       "      <th>genre</th>\n",
       "      <th>gross</th>\n",
       "      <th>name</th>\n",
       "      <th>rating</th>\n",
       "      <th>runtime</th>\n",
       "      <th>score</th>\n",
       "      <th>star</th>\n",
       "      <th>studio</th>\n",
       "      <th>votes</th>\n",
       "      <th>profit</th>\n",
       "      <th>age</th>\n",
       "    </tr>\n",
       "  </thead>\n",
       "  <tbody>\n",
       "    <tr>\n",
       "      <th>0</th>\n",
       "      <td>237000000.0</td>\n",
       "      <td>UK</td>\n",
       "      <td>5-10</td>\n",
       "      <td>Action</td>\n",
       "      <td>760507625.0</td>\n",
       "      <td>Avatar (2009)</td>\n",
       "      <td>PG-13</td>\n",
       "      <td>162</td>\n",
       "      <td>7.8</td>\n",
       "      <td>3-5</td>\n",
       "      <td>Twentieth Century Fox Film Corporation</td>\n",
       "      <td>958400</td>\n",
       "      <td>523507625.0</td>\n",
       "      <td>5</td>\n",
       "    </tr>\n",
       "    <tr>\n",
       "      <th>1</th>\n",
       "      <td>200000000.0</td>\n",
       "      <td>USA</td>\n",
       "      <td>5-10</td>\n",
       "      <td>Drama</td>\n",
       "      <td>658672302.0</td>\n",
       "      <td>Titanic (1997)</td>\n",
       "      <td>PG-13</td>\n",
       "      <td>194</td>\n",
       "      <td>7.8</td>\n",
       "      <td>Leonardo DiCaprio</td>\n",
       "      <td>Twentieth Century Fox Film Corporation</td>\n",
       "      <td>865551</td>\n",
       "      <td>458672302.0</td>\n",
       "      <td>17</td>\n",
       "    </tr>\n",
       "    <tr>\n",
       "      <th>2</th>\n",
       "      <td>150000000.0</td>\n",
       "      <td>USA</td>\n",
       "      <td>3-5</td>\n",
       "      <td>Action</td>\n",
       "      <td>652270625.0</td>\n",
       "      <td>Jurassic World (2015)</td>\n",
       "      <td>PG-13</td>\n",
       "      <td>124</td>\n",
       "      <td>7.0</td>\n",
       "      <td>3-5</td>\n",
       "      <td>Universal Pictures</td>\n",
       "      <td>470625</td>\n",
       "      <td>502270625.0</td>\n",
       "      <td>-1</td>\n",
       "    </tr>\n",
       "    <tr>\n",
       "      <th>3</th>\n",
       "      <td>220000000.0</td>\n",
       "      <td>USA</td>\n",
       "      <td>3-5</td>\n",
       "      <td>Action</td>\n",
       "      <td>623357910.0</td>\n",
       "      <td>The Avengers (2012)</td>\n",
       "      <td>PG-13</td>\n",
       "      <td>143</td>\n",
       "      <td>8.1</td>\n",
       "      <td>Robert Downey Jr.</td>\n",
       "      <td>10+</td>\n",
       "      <td>1069292</td>\n",
       "      <td>403357910.0</td>\n",
       "      <td>2</td>\n",
       "    </tr>\n",
       "    <tr>\n",
       "      <th>4</th>\n",
       "      <td>185000000.0</td>\n",
       "      <td>USA</td>\n",
       "      <td>10+</td>\n",
       "      <td>Action</td>\n",
       "      <td>534858444.0</td>\n",
       "      <td>The Dark Knight (2008)</td>\n",
       "      <td>PG-13</td>\n",
       "      <td>152</td>\n",
       "      <td>9.0</td>\n",
       "      <td>Christian Bale</td>\n",
       "      <td>Warner Bros.</td>\n",
       "      <td>1845853</td>\n",
       "      <td>349858444.0</td>\n",
       "      <td>6</td>\n",
       "    </tr>\n",
       "  </tbody>\n",
       "</table>\n",
       "</div>"
      ],
      "text/plain": [
       "        budget country director   genre        gross                    name  \\\n",
       "0  237000000.0      UK     5-10  Action  760507625.0           Avatar (2009)   \n",
       "1  200000000.0     USA     5-10   Drama  658672302.0          Titanic (1997)   \n",
       "2  150000000.0     USA      3-5  Action  652270625.0   Jurassic World (2015)   \n",
       "3  220000000.0     USA      3-5  Action  623357910.0     The Avengers (2012)   \n",
       "4  185000000.0     USA      10+  Action  534858444.0  The Dark Knight (2008)   \n",
       "\n",
       "  rating  runtime  score               star  \\\n",
       "0  PG-13      162    7.8                3-5   \n",
       "1  PG-13      194    7.8  Leonardo DiCaprio   \n",
       "2  PG-13      124    7.0                3-5   \n",
       "3  PG-13      143    8.1  Robert Downey Jr.   \n",
       "4  PG-13      152    9.0     Christian Bale   \n",
       "\n",
       "                                   studio    votes       profit  age  \n",
       "0  Twentieth Century Fox Film Corporation   958400  523507625.0    5  \n",
       "1  Twentieth Century Fox Film Corporation   865551  458672302.0   17  \n",
       "2                      Universal Pictures   470625  502270625.0   -1  \n",
       "3                                     10+  1069292  403357910.0    2  \n",
       "4                            Warner Bros.  1845853  349858444.0    6  "
      ]
     },
     "execution_count": 29,
     "metadata": {},
     "output_type": "execute_result"
    }
   ],
   "source": [
    "df.head()"
   ]
  },
  {
   "cell_type": "markdown",
   "metadata": {},
   "source": [
    "## Correlations\n",
    "\n",
    "* Is the profit of a movie correlated with it's user score?\n",
    " * There is very low positive correlation, we can assume that these two features are not correlated\n",
    "* How about its number of votes?\n",
    " * Votes have strong positive correlation with gross profit\n",
    "* What do these correlations tell us?\n",
    " * Gross profit is directly dependent on how many people watched the movie. It looks as movie recieves more ratings as more people watch it but the score people give does not depend on the profit and vice versa."
   ]
  },
  {
   "cell_type": "code",
   "execution_count": 30,
   "metadata": {},
   "outputs": [
    {
     "data": {
      "text/plain": [
       "<matplotlib.axes._subplots.AxesSubplot at 0x1a21a57d30>"
      ]
     },
     "execution_count": 30,
     "metadata": {},
     "output_type": "execute_result"
    },
    {
     "data": {
      "image/png": "[encoded data removed]",
      "text/plain": [
       "<Figure size 1080x1080 with 1 Axes>"
      ]
     },
     "metadata": {},
     "output_type": "display_data"
    }
   ],
   "source": [
    "# Calculate correlations:\n",
    "correlations = df.corr()\n",
    "\n",
    "### SNS plot theme\n",
    "# Change color scheme\n",
    "sns.set_style('white')\n",
    "# Generate a mask for the upper triangle\n",
    "mask = np.zeros_like(correlations, dtype=np.bool)\n",
    "mask[np.triu_indices_from(mask)] = True\n",
    "# Make the figsize\n",
    "plt.figure(figsize=(15,15))\n",
    "\n",
    "# Plot heatmap of correlations\n",
    "sns.heatmap(correlations*100, annot=True, mask=mask, cbar=False)"
   ]
  },
  {
   "cell_type": "markdown",
   "metadata": {},
   "source": [
    "## Machine learning\n",
    "\n",
    "Next, we will prepare the data for machine learning by creating an analytical base table. We will drop name columns because it's basically an index column and the gross, votes, and score features because we do not know them at the time."
   ]
  },
  {
   "cell_type": "code",
   "execution_count": 45,
   "metadata": {},
   "outputs": [],
   "source": [
    "import warnings\n",
    "warnings.filterwarnings('ignore')\n",
    "from sklearn.ensemble import RandomForestRegressor\n",
    "from sklearn.metrics import r2_score\n",
    "from sklearn.metrics import mean_absolute_error"
   ]
  },
  {
   "cell_type": "code",
   "execution_count": 32,
   "metadata": {},
   "outputs": [],
   "source": [
    "# Create analytical base table (ABT)\n",
    "abt = pd.get_dummies ( df.drop(['name', 'gross', 'votes', 'score'], axis=1) )"
   ]
  },
  {
   "cell_type": "markdown",
   "metadata": {},
   "source": [
    "We'll split the data based on date of training data (2014 and earlier) and test data (2015, 2016)"
   ]
  },
  {
   "cell_type": "code",
   "execution_count": 33,
   "metadata": {},
   "outputs": [],
   "source": [
    "# Train / Test split based on date of training data (2014 and earlier) and test data (2015, 2016)\n",
    "train = abt[abt.age >= 0]\n",
    "test = abt[abt.age <= 0]\n",
    "\n",
    "y_train = train.profit\n",
    "X_train = train.drop(['profit'], axis=1)\n",
    "\n",
    "y_test = test.profit\n",
    "X_test = test.drop(['profit'], axis=1)"
   ]
  },
  {
   "cell_type": "markdown",
   "metadata": {},
   "source": [
    "We will try a basic random forest"
   ]
  },
  {
   "cell_type": "code",
   "execution_count": 34,
   "metadata": {},
   "outputs": [],
   "source": [
    "# Train a basic random forest model\n",
    "rf = RandomForestRegressor(random_state=1234)\n",
    "rf.fit(X_train, y_train)\n",
    "\n",
    "# Make prediction on test set\n",
    "pred = rf.predict(X_test)"
   ]
  },
  {
   "cell_type": "code",
   "execution_count": 35,
   "metadata": {},
   "outputs": [
    {
     "data": {
      "image/png": "[encoded data removed]",
      "text/plain": [
       "<Figure size 432x432 with 3 Axes>"
      ]
     },
     "metadata": {},
     "output_type": "display_data"
    }
   ],
   "source": [
    "sns.jointplot(y_test, pred, kind='reg')\n",
    "plt.xlabel('Actual Profit')\n",
    "plt.ylabel('Predicted Profit')\n",
    "plt.show()"
   ]
  },
  {
   "cell_type": "code",
   "execution_count": 36,
   "metadata": {},
   "outputs": [
    {
     "name": "stdout",
     "output_type": "stream",
     "text": [
      "R^2 score:  0.22029037231625237\n",
      "MAE:  29684720.822394677\n"
     ]
    }
   ],
   "source": [
    "# scores\n",
    "print('R^2 score: ', r2_score(y_test, pred))\n",
    "print('MAE: ', mean_absolute_error(y_test, pred))"
   ]
  },
  {
   "cell_type": "markdown",
   "metadata": {},
   "source": [
    "As you can see in the plot, the very model actually does a pretty good job predicting the profitability of films based on the limited data we have and out of the box model.\n",
    "\n",
    "Whether this model performance is \"good enough\" will depend on the use-case. For example, in a betting market, this model would already give a formidable edge.\n",
    "\n",
    "Finally, we'll plot the feature importances."
   ]
  },
  {
   "cell_type": "code",
   "execution_count": 37,
   "metadata": {},
   "outputs": [],
   "source": [
    "# Helper function for plotting feature importances\n",
    "def plot_feature_importances(columns, feature_importances, show_top_n=10):\n",
    "    feats = dict( zip(columns, feature_importances) )\n",
    "    imp = pd.DataFrame.from_dict(feats, orient='index').rename(columns={0: 'Gini-importance'})\n",
    "    imp.sort_values(by='Gini-importance').tail(show_top_n).plot(kind='barh', figsize=(8,8))\n",
    "    plt.show()"
   ]
  },
  {
   "cell_type": "code",
   "execution_count": 38,
   "metadata": {},
   "outputs": [
    {
     "data": {
      "image/png": "[encoded data removed]",
      "text/plain": [
       "<Figure size 576x576 with 1 Axes>"
      ]
     },
     "metadata": {},
     "output_type": "display_data"
    }
   ],
   "source": [
    "plot_feature_importances(X_train.columns, rf.feature_importances_)"
   ]
  },
  {
   "cell_type": "markdown",
   "metadata": {},
   "source": [
    "As a whole, the budget feature was the most important in our model. But earlier, we found that budget and profit were not correlated?\n",
    "\n",
    "This seems contradictory, but the answer has to do with the difference between first-order correlations and a full model. Earlier, we were looking at the correlation between budget and profit at an aggregate level.\n",
    "\n",
    "But now that we've built a model, we can look at the affect of budget while controlling for all the other input features as well."
   ]
  },
  {
   "cell_type": "markdown",
   "metadata": {},
   "source": [
    "## Machine Learning with Pre-Screen\n",
    "Next, we'll create a new analytical base table for the scenario where we're able to collect an accurate score input based on film pre-screenings."
   ]
  },
  {
   "cell_type": "code",
   "execution_count": 39,
   "metadata": {},
   "outputs": [],
   "source": [
    "# Create new analytical base table (ABT)\n",
    "abt_ps = pd.get_dummies ( df.drop(['name', 'gross', 'votes'], axis=1) )"
   ]
  },
  {
   "cell_type": "code",
   "execution_count": 40,
   "metadata": {},
   "outputs": [],
   "source": [
    "train = abt_ps[abt_ps.age >= 0]\n",
    "test = abt_ps[abt_ps.age <= 0]\n",
    "\n",
    "y_train = train.profit\n",
    "X_train = train.drop(['profit'], axis=1)\n",
    "\n",
    "y_test = test.profit\n",
    "X_test = test.drop(['profit'], axis=1)"
   ]
  },
  {
   "cell_type": "code",
   "execution_count": 41,
   "metadata": {},
   "outputs": [],
   "source": [
    "# Train a basic random forest model\n",
    "rf = RandomForestRegressor(random_state=1234)\n",
    "rf.fit(X_train, y_train)\n",
    "\n",
    "# Make prediction on test set\n",
    "pred = rf.predict(X_test)"
   ]
  },
  {
   "cell_type": "code",
   "execution_count": 42,
   "metadata": {},
   "outputs": [
    {
     "data": {
      "image/png": "[encoded data removed]",
      "text/plain": [
       "<Figure size 432x432 with 3 Axes>"
      ]
     },
     "metadata": {},
     "output_type": "display_data"
    }
   ],
   "source": [
    "sns.jointplot(y_test, pred, kind='reg')\n",
    "plt.xlabel('Actual Profit')\n",
    "plt.ylabel('Predicted Profit')\n",
    "plt.show()"
   ]
  },
  {
   "cell_type": "code",
   "execution_count": 43,
   "metadata": {},
   "outputs": [
    {
     "name": "stdout",
     "output_type": "stream",
     "text": [
      "R^2 score:  0.3371924664808582\n",
      "MAE:  25972965.048558757\n"
     ]
    }
   ],
   "source": [
    "# scores\n",
    "print('R^2 score: ', r2_score(y_test, pred))\n",
    "print('MAE: ', mean_absolute_error(y_test, pred))"
   ]
  },
  {
   "cell_type": "markdown",
   "metadata": {},
   "source": [
    "Including the score feature improves our model's performance substantially. We should make effort to collect this data for any film we'd like to predict."
   ]
  },
  {
   "cell_type": "code",
   "execution_count": 44,
   "metadata": {},
   "outputs": [
    {
     "data": {
      "image/png": "[encoded data removed]",
      "text/plain": [
       "<Figure size 576x576 with 1 Axes>"
      ]
     },
     "metadata": {},
     "output_type": "display_data"
    }
   ],
   "source": [
    "plot_feature_importances(X_train.columns, rf.feature_importances_)"
   ]
  },
  {
   "cell_type": "markdown",
   "metadata": {},
   "source": [
    "The score turns out to be the second important feature after the budget"
   ]
  }
 ],
 "metadata": {
  "kernelspec": {
   "display_name": "Python 3",
   "language": "python",
   "name": "python3"
  },
  "language_info": {
   "codemirror_mode": {
    "name": "ipython",
    "version": 3
   },
   "file_extension": ".py",
   "mimetype": "text/x-python",
   "name": "python",
   "nbconvert_exporter": "python",
   "pygments_lexer": "ipython3",
   "version": "3.7.0"
  }
 },
 "nbformat": 4,
 "nbformat_minor": 2
}
